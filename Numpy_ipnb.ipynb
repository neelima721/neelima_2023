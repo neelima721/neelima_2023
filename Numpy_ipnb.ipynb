{
 "cells": [
  {
   "cell_type": "code",
   "execution_count": 1,
   "id": "7cfed420",
   "metadata": {},
   "outputs": [
    {
     "name": "stdout",
     "output_type": "stream",
     "text": [
      "Requirement already satisfied: numpy in c:\\users\\shiva\\anaconda3\\lib\\site-packages (1.21.5)\n"
     ]
    }
   ],
   "source": [
    "#for installing the numpy\n",
    "!pip install numpy\n",
    "\n",
    "\n",
    "#import numpy module with alias np\n",
    "import numpy as np"
   ]
  },
  {
   "cell_type": "code",
   "execution_count": 2,
   "id": "84a29644",
   "metadata": {},
   "outputs": [
    {
     "data": {
      "text/plain": [
       "array(['1', '2', '3', '4', 'a'], dtype='<U11')"
      ]
     },
     "execution_count": 2,
     "metadata": {},
     "output_type": "execute_result"
    }
   ],
   "source": [
    "#define a numpy array passing a list with 1,2 and 3 as elements in it\n",
    "a = np.array([1,2,3,4,\"a\"])\n",
    "#print a\n",
    "a"
   ]
  },
  {
   "cell_type": "code",
   "execution_count": 5,
   "id": "d22ffe3e",
   "metadata": {},
   "outputs": [
    {
     "name": "stdout",
     "output_type": "stream",
     "text": [
      "a dimension: 0\n",
      "b dimension: 1\n",
      "c dimension: 2\n",
      "d dimension: 3\n"
     ]
    }
   ],
   "source": [
    "#define a,b,c and d as instructed below       \n",
    "a = np.array(10)\n",
    "b = np.array([1,2,3])\n",
    "c = np.array([[1,2,3],[4,5,6]])\n",
    "d = np.array([[[1,2,3],[4,5,6],[1,2,3],[4,5,6]]])\n",
    "#print dimensions of a,b,c and d          using .ndim()\n",
    "print('a dimension:',a.ndim)\n",
    "print('b dimension:',b.ndim)\n",
    "print('c dimension:',c.ndim)\n",
    "print('d dimension:',d.ndim)\n"
   ]
  },
  {
   "cell_type": "markdown",
   "id": "54df65f4",
   "metadata": {},
   "source": []
  },
  {
   "cell_type": "code",
   "execution_count": 6,
   "id": "346a4389",
   "metadata": {},
   "outputs": [
    {
     "name": "stdout",
     "output_type": "stream",
     "text": [
      "10\n",
      "shape of a: ()\n",
      "[1 2 3]\n",
      "shape of b: (3,)\n",
      "[[1 2 3]\n",
      " [4 5 6]]\n",
      "shape of c: (2, 3)\n",
      "[[[1 2 3]\n",
      "  [4 5 6]\n",
      "  [1 2 3]\n",
      "  [4 5 6]]]\n",
      "shape of d: (1, 4, 3)\n"
     ]
    }
   ],
   "source": [
    "#print shape of each a,b,c and d       using.shape()\n",
    "print(a)\n",
    "print(\"shape of a:\",a.shape)\n",
    "print(b)\n",
    "print(\"shape of b:\",b.shape)\n",
    "print(c)\n",
    "print(\"shape of c:\",c.shape)\n",
    "print(d)\n",
    "print(\"shape of d:\",d.shape)"
   ]
  },
  {
   "cell_type": "code",
   "execution_count": 7,
   "id": "33bd075e",
   "metadata": {},
   "outputs": [
    {
     "name": "stdout",
     "output_type": "stream",
     "text": [
      "int32\n",
      "int32\n",
      "int32\n",
      "int32\n"
     ]
    }
   ],
   "source": [
    "#print datatype of a,b,c and d   using dtype()\n",
    "print(a.dtype)\n",
    "print(b.dtype)\n",
    "print(c.dtype)\n",
    "print(d.dtype)"
   ]
  },
  {
   "cell_type": "code",
   "execution_count": 8,
   "id": "f8fab66e",
   "metadata": {},
   "outputs": [
    {
     "name": "stdout",
     "output_type": "stream",
     "text": [
      "<class 'numpy.ndarray'>\n",
      "<class 'numpy.ndarray'>\n",
      "<class 'numpy.ndarray'>\n",
      "<class 'numpy.ndarray'>\n"
     ]
    }
   ],
   "source": [
    "#print type of variable  using type()\n",
    "print(type(a))\n",
    "print(type(b))\n",
    "print(type(c))\n",
    "print(type(d))"
   ]
  },
  {
   "cell_type": "code",
   "execution_count": 14,
   "id": "54e44857",
   "metadata": {},
   "outputs": [
    {
     "data": {
      "text/plain": [
       "1"
      ]
     },
     "execution_count": 14,
     "metadata": {},
     "output_type": "execute_result"
    }
   ],
   "source": [
    "#print length of array b, using len()\n",
    "len(d)"
   ]
  },
  {
   "cell_type": "code",
   "execution_count": 17,
   "id": "3ec375f2",
   "metadata": {},
   "outputs": [
    {
     "data": {
      "text/plain": [
       "array([1, 2, 3, 4, 5, 6, 7, 8])"
      ]
     },
     "execution_count": 17,
     "metadata": {},
     "output_type": "execute_result"
    }
   ],
   "source": [
    "#create a numpy array using arange with 1 and 9 as parameter in it using arange()\n",
    "np.arange(1,9)"
   ]
  },
  {
   "cell_type": "code",
   "execution_count": 18,
   "id": "c9855d31",
   "metadata": {},
   "outputs": [
    {
     "data": {
      "text/plain": [
       "array([1, 4, 7])"
      ]
     },
     "execution_count": 18,
     "metadata": {},
     "output_type": "execute_result"
    }
   ],
   "source": [
    "#create a numpy array using arange with 1,9 and 3 as parameters using arange()     start,stop,skip\n",
    "np.arange(1,9,3)"
   ]
  },
  {
   "cell_type": "code",
   "execution_count": 21,
   "id": "c55866e8",
   "metadata": {},
   "outputs": [
    {
     "data": {
      "text/plain": [
       "array([[1., 0., 0., 0.],\n",
       "       [0., 1., 0., 0.],\n",
       "       [0., 0., 1., 0.],\n",
       "       [0., 0., 0., 1.]])"
      ]
     },
     "execution_count": 21,
     "metadata": {},
     "output_type": "execute_result"
    }
   ],
   "source": [
    "#create numpy array using eye function with 5 as passed parameter  using eye()\n",
    "np.eye(4 ,dtype=float)"
   ]
  },
  {
   "cell_type": "code",
   "execution_count": 22,
   "id": "46557f22",
   "metadata": {},
   "outputs": [
    {
     "data": {
      "text/plain": [
       "array([[1, 0],\n",
       "       [0, 1]])"
      ]
     },
     "execution_count": 22,
     "metadata": {},
     "output_type": "execute_result"
    }
   ],
   "source": [
    "#create numpy array using eye function with 3 as passed parameter using eye()\n",
    "np.eye(2 ,dtype=int)       #hence identity matrices"
   ]
  },
  {
   "cell_type": "code",
   "execution_count": 33,
   "id": "b52418cb",
   "metadata": {},
   "outputs": [
    {
     "data": {
      "text/plain": [
       "array([[0, 0, 0, 0, 0, 0],\n",
       "       [0, 0, 0, 0, 0, 0],\n",
       "       [0, 0, 0, 0, 0, 0],\n",
       "       [0, 0, 0, 0, 0, 0],\n",
       "       [0, 0, 0, 0, 0, 0],\n",
       "       [0, 0, 0, 0, 0, 0]])"
      ]
     },
     "execution_count": 33,
     "metadata": {},
     "output_type": "execute_result"
    }
   ],
   "source": [
    "#create numpy using zero function with(3,2) as passed parameter  using zeros()\n",
    "np.zeros((6,6),dtype='int')      #hence null matrices"
   ]
  },
  {
   "cell_type": "code",
   "execution_count": 34,
   "id": "7ec993d5",
   "metadata": {},
   "outputs": [
    {
     "data": {
      "text/plain": [
       "array([[1., 1., 1., 1., 1.],\n",
       "       [1., 1., 1., 1., 1.],\n",
       "       [1., 1., 1., 1., 1.],\n",
       "       [1., 1., 1., 1., 1.]])"
      ]
     },
     "execution_count": 34,
     "metadata": {},
     "output_type": "execute_result"
    }
   ],
   "source": [
    "#numpy using ones function with (4,5) as passed parameter   using ones()\n",
    "np.ones((4,5))                 "
   ]
  },
  {
   "cell_type": "code",
   "execution_count": 35,
   "id": "a3c1a67b",
   "metadata": {},
   "outputs": [
    {
     "data": {
      "text/plain": [
       "array([[721, 721],\n",
       "       [721, 721],\n",
       "       [721, 721]])"
      ]
     },
     "execution_count": 35,
     "metadata": {},
     "output_type": "execute_result"
    }
   ],
   "source": [
    "#numpy using full function with (2,3 ) and 2 as passed paramter  using full()\n",
    "np.full((3,2),721,dtype=int)"
   ]
  },
  {
   "cell_type": "code",
   "execution_count": 36,
   "id": "3d7732bb",
   "metadata": {},
   "outputs": [
    {
     "data": {
      "text/plain": [
       "array([[1, 0, 0, 0, 0, 0],\n",
       "       [0, 2, 0, 0, 0, 0],\n",
       "       [0, 0, 3, 0, 0, 0],\n",
       "       [0, 0, 0, 4, 0, 0],\n",
       "       [0, 0, 0, 0, 5, 0],\n",
       "       [0, 0, 0, 0, 0, 6]])"
      ]
     },
     "execution_count": 36,
     "metadata": {},
     "output_type": "execute_result"
    }
   ],
   "source": [
    "#using diag function passing a list [1,2,3,4,5,6]      using diad()\n",
    "x =[1,2,3,4,5,6]\n",
    "np.diag(x)         "
   ]
  },
  {
   "cell_type": "code",
   "execution_count": 49,
   "id": "f475069b",
   "metadata": {},
   "outputs": [
    {
     "name": "stdout",
     "output_type": "stream",
     "text": [
      "[ 1  2  3  4  5  6  7  8  9 10 11 12 13 14 15 16]\n",
      "(16,)\n",
      "1\n"
     ]
    }
   ],
   "source": [
    "#using arange() to generate numpy array x with numbers between 1 to 16\n",
    "x=np.arange(1,17)\n",
    "print(x)\n",
    "print(x.shape)\n",
    "print(x.ndim)"
   ]
  },
  {
   "cell_type": "code",
   "execution_count": 50,
   "id": "01ebcf2f",
   "metadata": {},
   "outputs": [
    {
     "name": "stdout",
     "output_type": "stream",
     "text": [
      "[[ 1  2]\n",
      " [ 3  4]\n",
      " [ 5  6]\n",
      " [ 7  8]\n",
      " [ 9 10]\n",
      " [11 12]\n",
      " [13 14]\n",
      " [15 16]]\n",
      "(8, 2)\n",
      "2\n"
     ]
    }
   ],
   "source": [
    "#using reshape x with 2 rows 8 columns          using reshape()\n",
    "n=x.reshape((8,2))\n",
    "print(n)\n",
    "print(n.shape)\n",
    "print(n.ndim)"
   ]
  },
  {
   "cell_type": "code",
   "execution_count": 53,
   "id": "edea58e7",
   "metadata": {},
   "outputs": [
    {
     "name": "stdout",
     "output_type": "stream",
     "text": [
      "[[[ 1  2]\n",
      "  [ 3  4]]\n",
      "\n",
      " [[ 5  6]\n",
      "  [ 7  8]]\n",
      "\n",
      " [[ 9 10]\n",
      "  [11 12]]\n",
      "\n",
      " [[13 14]\n",
      "  [15 16]]]\n",
      "(4, 2, 2)\n",
      "3\n"
     ]
    }
   ],
   "source": [
    "n1=n.reshape((4,2,2))\n",
    "print(n1)\n",
    "print(n1.shape)\n",
    "print(n1.ndim)"
   ]
  },
  {
   "cell_type": "code",
   "execution_count": 54,
   "id": "bd97c24a",
   "metadata": {},
   "outputs": [
    {
     "name": "stdout",
     "output_type": "stream",
     "text": [
      "[ 1  2  3  4  5  6  7  8  9 10 11 12 13 14 15 16]\n",
      "(16,)\n",
      "1\n"
     ]
    }
   ],
   "source": [
    "#converting to old dimension   using ravel()=restore previous\n",
    "v=n.ravel()\n",
    "print(v)\n",
    "print(v.shape)\n",
    "print(v.ndim)"
   ]
  },
  {
   "cell_type": "code",
   "execution_count": 55,
   "id": "34e2dc02",
   "metadata": {},
   "outputs": [
    {
     "data": {
      "text/plain": [
       "array([ 1,  2,  3,  4,  5,  6,  7,  8,  9, 10, 11, 12, 13, 14, 15, 16])"
      ]
     },
     "execution_count": 55,
     "metadata": {},
     "output_type": "execute_result"
    }
   ],
   "source": [
    "#using flattening x convert into one dimensional  using flatten()\n",
    "x.flatten()"
   ]
  },
  {
   "cell_type": "code",
   "execution_count": 57,
   "id": "98caec94",
   "metadata": {},
   "outputs": [
    {
     "name": "stdout",
     "output_type": "stream",
     "text": [
      "[4]\n"
     ]
    }
   ],
   "source": [
    "#even numbers between 1 to 25\n",
    "a=np.arange(4,7,19)\n",
    "print(a)"
   ]
  },
  {
   "cell_type": "code",
   "execution_count": 64,
   "id": "abf86deb",
   "metadata": {
    "scrolled": true
   },
   "outputs": [
    {
     "data": {
      "text/plain": [
       "4"
      ]
     },
     "execution_count": 64,
     "metadata": {},
     "output_type": "execute_result"
    }
   ],
   "source": [
    "#get third element in array a\n",
    "a[0]"
   ]
  },
  {
   "cell_type": "code",
   "execution_count": 65,
   "id": "27e13c5b",
   "metadata": {},
   "outputs": [
    {
     "data": {
      "text/plain": [
       "array([4])"
      ]
     },
     "execution_count": 65,
     "metadata": {},
     "output_type": "execute_result"
    }
   ],
   "source": [
    "#print 2nd,6th,8th element in array a\n",
    "a[0:4:2]"
   ]
  },
  {
   "cell_type": "code",
   "execution_count": 66,
   "id": "ad51ea34",
   "metadata": {},
   "outputs": [
    {
     "data": {
      "text/plain": [
       "array([[1, 2, 3],\n",
       "       [4, 5, 6],\n",
       "       [7, 8, 9]])"
      ]
     },
     "execution_count": 66,
     "metadata": {},
     "output_type": "execute_result"
    }
   ],
   "source": [
    "#define an array 2-D with [[1,2,3],[4,5,6],[7,8,9]] as its elements\n",
    "a=np.array([[1,2,3],[4,5,6],[7,8,9]])\n",
    "a"
   ]
  },
  {
   "cell_type": "code",
   "execution_count": 69,
   "id": "2a00f4ce",
   "metadata": {},
   "outputs": [
    {
     "data": {
      "text/plain": [
       "9"
      ]
     },
     "execution_count": 69,
     "metadata": {},
     "output_type": "execute_result"
    }
   ],
   "source": [
    "#print 3rd element of 3rd row of a\n",
    "a[2,2]"
   ]
  },
  {
   "cell_type": "code",
   "execution_count": 73,
   "id": "7ad0a5d6",
   "metadata": {},
   "outputs": [
    {
     "data": {
      "text/plain": [
       "array([[[ 1,  2,  3],\n",
       "        [ 4,  5,  6]],\n",
       "\n",
       "       [[ 7,  8,  9],\n",
       "        [10, 11, 12]]])"
      ]
     },
     "execution_count": 73,
     "metadata": {},
     "output_type": "execute_result"
    }
   ],
   "source": [
    "#define an array b again with ([[[1,2,3],[4,5,6],[7,8,9],[10,11,12]]]) as its elements\n",
    "b=np.array([[[1,2,3],[4,5,6]],[[7,8,9],[10,11,12]]])\n",
    "b.shape\n",
    "b"
   ]
  },
  {
   "cell_type": "code",
   "execution_count": 72,
   "id": "d28d5cf8",
   "metadata": {},
   "outputs": [
    {
     "data": {
      "text/plain": [
       "3"
      ]
     },
     "execution_count": 72,
     "metadata": {},
     "output_type": "execute_result"
    }
   ],
   "source": [
    "#print 3rd element from 2nd list in nested list passed\n",
    "b[0][0][2]"
   ]
  },
  {
   "cell_type": "code",
   "execution_count": 74,
   "id": "aa0e8795",
   "metadata": {},
   "outputs": [
    {
     "data": {
      "text/plain": [
       "array([ 1,  2,  3,  4,  5,  6,  7,  8,  9, 10, 11, 12, 13, 14])"
      ]
     },
     "execution_count": 74,
     "metadata": {},
     "output_type": "execute_result"
    }
   ],
   "source": [
    "#slicing\n",
    "arr=np.arange(1,15)\n",
    "arr"
   ]
  },
  {
   "cell_type": "code",
   "execution_count": 75,
   "id": "ebf1ef5f",
   "metadata": {},
   "outputs": [
    {
     "data": {
      "text/plain": [
       "array([1, 2, 3, 4, 5])"
      ]
     },
     "execution_count": 75,
     "metadata": {},
     "output_type": "execute_result"
    }
   ],
   "source": [
    "#slice elements from 1 to 5 from arrar arr:\n",
    "arr[0:5]"
   ]
  },
  {
   "cell_type": "code",
   "execution_count": 76,
   "id": "ccb11792",
   "metadata": {},
   "outputs": [
    {
     "data": {
      "text/plain": [
       "array([ 7,  8,  9, 10, 11, 12, 13, 14])"
      ]
     },
     "execution_count": 76,
     "metadata": {},
     "output_type": "execute_result"
    }
   ],
   "source": [
    "#slice elements from index 6 to the end of the array arr:\n",
    "arr[6:]"
   ]
  },
  {
   "cell_type": "code",
   "execution_count": 78,
   "id": "23f6aab7",
   "metadata": {},
   "outputs": [
    {
     "data": {
      "text/plain": [
       "array([1, 2, 3, 4, 5])"
      ]
     },
     "execution_count": 78,
     "metadata": {},
     "output_type": "execute_result"
    }
   ],
   "source": [
    "#slice elements from the beginning to index 5(not included) in array arr:\n",
    "arr[0:5]"
   ]
  },
  {
   "cell_type": "code",
   "execution_count": 79,
   "id": "3c1c5099",
   "metadata": {},
   "outputs": [
    {
     "data": {
      "text/plain": [
       "array([2, 4, 6])"
      ]
     },
     "execution_count": 79,
     "metadata": {},
     "output_type": "execute_result"
    }
   ],
   "source": [
    "#print every other element from index 1 to index 7\n",
    "arr[1:7:2]"
   ]
  },
  {
   "cell_type": "code",
   "execution_count": 80,
   "id": "6a670a4c",
   "metadata": {},
   "outputs": [
    {
     "data": {
      "text/plain": [
       "array([1, 3, 5, 7, 9])"
      ]
     },
     "execution_count": 80,
     "metadata": {},
     "output_type": "execute_result"
    }
   ],
   "source": [
    "#return every other element from the entire array arr:\n",
    "arr[0:10:2]"
   ]
  },
  {
   "cell_type": "code",
   "execution_count": 81,
   "id": "5c1a8a9c",
   "metadata": {},
   "outputs": [
    {
     "data": {
      "text/plain": [
       "array([[1, 2, 3],\n",
       "       [4, 5, 6],\n",
       "       [7, 8, 9]])"
      ]
     },
     "execution_count": 81,
     "metadata": {},
     "output_type": "execute_result"
    }
   ],
   "source": [
    "#print array a\n",
    "a"
   ]
  },
  {
   "cell_type": "code",
   "execution_count": 82,
   "id": "9c75c74e",
   "metadata": {},
   "outputs": [
    {
     "data": {
      "text/plain": [
       "3"
      ]
     },
     "execution_count": 82,
     "metadata": {},
     "output_type": "execute_result"
    }
   ],
   "source": [
    "#in array a print index 2 from all the rows\n",
    "arr[2]"
   ]
  },
  {
   "cell_type": "markdown",
   "id": "0fc20fca",
   "metadata": {},
   "source": []
  },
  {
   "cell_type": "code",
   "execution_count": 88,
   "id": "4299ab6f",
   "metadata": {},
   "outputs": [
    {
     "data": {
      "text/plain": [
       "array([0, 1, 2, 3, 4, 5, 6, 7, 8, 9])"
      ]
     },
     "execution_count": 88,
     "metadata": {},
     "output_type": "execute_result"
    }
   ],
   "source": [
    "x1= np.arange(10)\n",
    "x1"
   ]
  },
  {
   "cell_type": "code",
   "execution_count": 89,
   "id": "5593b51d",
   "metadata": {},
   "outputs": [],
   "source": [
    "#assign x2=x1\n",
    "x2=x1 #view"
   ]
  },
  {
   "cell_type": "code",
   "execution_count": 90,
   "id": "2525e02c",
   "metadata": {},
   "outputs": [
    {
     "name": "stdout",
     "output_type": "stream",
     "text": [
      "[0 1 2 3 4 5 6 7 8 9]\n",
      "[0 1 2 3 4 5 6 7 8 9]\n"
     ]
    }
   ],
   "source": [
    "#print x1 and x2\n",
    "print(x1)\n",
    "print(x2)"
   ]
  },
  {
   "cell_type": "code",
   "execution_count": 91,
   "id": "a3576123",
   "metadata": {},
   "outputs": [],
   "source": [
    "#change 1st element of x2 as 10\n",
    "x2[0]=10"
   ]
  },
  {
   "cell_type": "code",
   "execution_count": 92,
   "id": "bd5d138a",
   "metadata": {},
   "outputs": [
    {
     "name": "stdout",
     "output_type": "stream",
     "text": [
      "[10  1  2  3  4  5  6  7  8  9]\n",
      "[10  1  2  3  4  5  6  7  8  9]\n"
     ]
    }
   ],
   "source": [
    "#again print x1 and x2\n",
    "print(x1)\n",
    "print(x2)"
   ]
  },
  {
   "cell_type": "code",
   "execution_count": 118,
   "id": "ed6fc5aa",
   "metadata": {},
   "outputs": [
    {
     "name": "stdout",
     "output_type": "stream",
     "text": [
      "2696102701936\n",
      "2696102701936\n"
     ]
    }
   ],
   "source": [
    "print(id(x1))\n",
    "print(id(x2))"
   ]
  },
  {
   "cell_type": "code",
   "execution_count": 114,
   "id": "4d84ca0e",
   "metadata": {},
   "outputs": [
    {
     "name": "stdout",
     "output_type": "stream",
     "text": [
      "True\n",
      "2696102701936\n",
      "2696102701936\n"
     ]
    }
   ],
   "source": [
    "#check memory share between x1 and x2\n",
    "print(np.shares_memory(x1, x2))\n",
    "print(id(x1))\n",
    "print(id(x2))"
   ]
  },
  {
   "cell_type": "code",
   "execution_count": 116,
   "id": "1ab7961f",
   "metadata": {},
   "outputs": [],
   "source": [
    "#create a view of x1 and store it in x3\n",
    "x3 = x1.view()"
   ]
  },
  {
   "cell_type": "code",
   "execution_count": 117,
   "id": "27553682",
   "metadata": {},
   "outputs": [
    {
     "data": {
      "text/plain": [
       "True"
      ]
     },
     "execution_count": 117,
     "metadata": {},
     "output_type": "execute_result"
    }
   ],
   "source": [
    "#again check memory share between x1 and x3\n",
    "np.shares_memory(x1, x3)"
   ]
  },
  {
   "cell_type": "code",
   "execution_count": 119,
   "id": "c5ecf444",
   "metadata": {},
   "outputs": [
    {
     "name": "stdout",
     "output_type": "stream",
     "text": [
      "[10  1  2  3  4  5  6  7  8  9]\n",
      "[10  1  2  3  4  5  6  7  8  9]\n"
     ]
    }
   ],
   "source": [
    "#change 1st element of x3=10\n",
    "x3[0]=10\n",
    "#print x1 and x3 to check if changes reflected in both \n",
    "print(x1)\n",
    "print(x3)"
   ]
  },
  {
   "cell_type": "code",
   "execution_count": 121,
   "id": "778eafcf",
   "metadata": {},
   "outputs": [
    {
     "name": "stdout",
     "output_type": "stream",
     "text": [
      "[10  1  2  3  4  5  6  7  8  9]\n",
      "[ 10   1   2   3   4   5   6   7   8 100]\n"
     ]
    }
   ],
   "source": [
    "#now create an array x4 which is copy of x1 using copy()\n",
    "x4=np.copy(x1)\n",
    "#change the last element of x4 as 100\n",
    "x4[-1]=100\n",
    "#print both x1 and x4 to check if changes reflected in both\n",
    "print(x1)\n",
    "print(x4)"
   ]
  },
  {
   "cell_type": "code",
   "execution_count": 122,
   "id": "5ffb4500",
   "metadata": {},
   "outputs": [
    {
     "name": "stdout",
     "output_type": "stream",
     "text": [
      "2696102701936\n",
      "2696102754128\n"
     ]
    },
    {
     "data": {
      "text/plain": [
       "False"
      ]
     },
     "execution_count": 122,
     "metadata": {},
     "output_type": "execute_result"
    }
   ],
   "source": [
    "#check memory share between x1 and x4\n",
    "print(id(x1))\n",
    "print(id(x4))\n",
    "np.shares_memory(x1,x4)"
   ]
  },
  {
   "cell_type": "code",
   "execution_count": 123,
   "id": "12567c45",
   "metadata": {},
   "outputs": [
    {
     "data": {
      "text/plain": [
       "array([[1, 2, 3],\n",
       "       [4, 5, 6],\n",
       "       [7, 8, 9]])"
      ]
     },
     "execution_count": 123,
     "metadata": {},
     "output_type": "execute_result"
    }
   ],
   "source": [
    "#print a\n",
    "a"
   ]
  },
  {
   "cell_type": "code",
   "execution_count": 124,
   "id": "68b2990c",
   "metadata": {},
   "outputs": [
    {
     "data": {
      "text/plain": [
       "array([[False, False, False],\n",
       "       [ True,  True,  True],\n",
       "       [ True,  True,  True]])"
      ]
     },
     "execution_count": 124,
     "metadata": {},
     "output_type": "execute_result"
    }
   ],
   "source": [
    "#check if every element in array a greater than 3 or not using'>'notation\n",
    "a>3"
   ]
  },
  {
   "cell_type": "code",
   "execution_count": 125,
   "id": "dae0b0f6",
   "metadata": {},
   "outputs": [
    {
     "data": {
      "text/plain": [
       "array([4, 5, 6, 7, 8, 9])"
      ]
     },
     "execution_count": 125,
     "metadata": {},
     "output_type": "execute_result"
    }
   ],
   "source": [
    "#get a list with all elements of array 'a' greater than 3\n",
    "a[a>3]"
   ]
  },
  {
   "cell_type": "code",
   "execution_count": 126,
   "id": "3c060e54",
   "metadata": {},
   "outputs": [
    {
     "data": {
      "text/plain": [
       "array([4, 5])"
      ]
     },
     "execution_count": 126,
     "metadata": {},
     "output_type": "execute_result"
    }
   ],
   "source": [
    "#get a list with all elements of array 'a' greater than 3 but less than 6\n",
    "a[(a>3)&(a<6)]"
   ]
  },
  {
   "cell_type": "code",
   "execution_count": 127,
   "id": "3c223e75",
   "metadata": {},
   "outputs": [
    {
     "data": {
      "text/plain": [
       "array([ True,  True,  True,  True,  True,  True,  True,  True,  True,\n",
       "       False])"
      ]
     },
     "execution_count": 127,
     "metadata": {},
     "output_type": "execute_result"
    }
   ],
   "source": [
    "#check if each elements in array 'x1' equals 'x4' using ''=='' notation\n",
    "x1==x4\n",
    "#print(x1)\n",
    "#print(x4)"
   ]
  },
  {
   "cell_type": "code",
   "execution_count": 131,
   "id": "44747382",
   "metadata": {},
   "outputs": [
    {
     "name": "stdout",
     "output_type": "stream",
     "text": [
      "[[1 4 7]\n",
      " [2 5 8]\n",
      " [3 6 9]]\n",
      "--------------\n",
      "[[1 2 3]\n",
      " [4 5 6]\n",
      " [7 8 9]]\n"
     ]
    }
   ],
   "source": [
    "#transpose\n",
    "#print transpose of array 'a'    using transpose()   rows becomes columns\n",
    "print (a.transpose())\n",
    "#print array 'a'\n",
    "print(\"--------------\")\n",
    "print(a)"
   ]
  },
  {
   "cell_type": "code",
   "execution_count": 129,
   "id": "add7f450",
   "metadata": {},
   "outputs": [
    {
     "name": "stdout",
     "output_type": "stream",
     "text": [
      "[10  1  2  3  4  5  6  7  8  9]\n",
      "[ 10   1   2   3   4   5   6   7   8 100]\n"
     ]
    },
    {
     "data": {
      "text/plain": [
       "array([[ 10,   1,   2,   3,   4,   5,   6,   7,   8,   9],\n",
       "       [ 10,   1,   2,   3,   4,   5,   6,   7,   8, 100]])"
      ]
     },
     "execution_count": 129,
     "metadata": {},
     "output_type": "execute_result"
    }
   ],
   "source": [
    "#stack x1 and x4 along columns    using vstack()=vertical\n",
    "print(x1)\n",
    "print(x4)\n",
    "np.vstack((x1,x4))"
   ]
  },
  {
   "cell_type": "code",
   "execution_count": 130,
   "id": "53c332b1",
   "metadata": {},
   "outputs": [
    {
     "data": {
      "text/plain": [
       "array([ 10,   1,   2,   3,   4,   5,   6,   7,   8,   9,  10,   1,   2,\n",
       "         3,   4,   5,   6,   7,   8, 100])"
      ]
     },
     "execution_count": 130,
     "metadata": {},
     "output_type": "execute_result"
    }
   ],
   "source": [
    "#stack x1 and x4 along rows     using hstack=horizontal\n",
    "np.hstack((x1,x4))"
   ]
  },
  {
   "cell_type": "code",
   "execution_count": 132,
   "id": "00d65546",
   "metadata": {},
   "outputs": [
    {
     "name": "stdout",
     "output_type": "stream",
     "text": [
      "[10  1  2  3  4  5  6  7  8  9]\n",
      "[ 10   1   2   3   4   5   6   7   8 100]\n"
     ]
    },
    {
     "data": {
      "text/plain": [
       "array([ 10,   1,   2,   3,  10,   1,   2,   3,   4,   5,   6,   7,   8,\n",
       "       100,   4,   5,   6,   7,   8,   9])"
      ]
     },
     "execution_count": 132,
     "metadata": {},
     "output_type": "execute_result"
    }
   ],
   "source": [
    "#inserts values into arrays x1 before index 4 with elements of x4  using insert()\n",
    "print(x1)\n",
    "print(x4)\n",
    "np.insert(x1,4,x4)"
   ]
  },
  {
   "cell_type": "code",
   "execution_count": 133,
   "id": "ccb3e86a",
   "metadata": {},
   "outputs": [
    {
     "name": "stdout",
     "output_type": "stream",
     "text": [
      "[10  1  2  3  4  5  6  7  8  9]\n"
     ]
    },
    {
     "data": {
      "text/plain": [
       "array([1, 2, 3, 4, 5, 6, 7, 8, 9])"
      ]
     },
     "execution_count": 133,
     "metadata": {},
     "output_type": "execute_result"
    }
   ],
   "source": [
    "#delete 2nd element from array x2  using delete()\n",
    "print(x2)\n",
    "np.delete(x2,0)"
   ]
  },
  {
   "cell_type": "code",
   "execution_count": 134,
   "id": "f38ddee1",
   "metadata": {},
   "outputs": [
    {
     "data": {
      "text/plain": [
       "array([[ 1.55740772, -2.18503986, -0.14254654],\n",
       "       [ 1.15782128, -3.38051501, -0.29100619],\n",
       "       [ 0.87144798, -6.79971146, -0.45231566]])"
      ]
     },
     "execution_count": 134,
     "metadata": {},
     "output_type": "execute_result"
    }
   ],
   "source": [
    "#mathematical operations on numpy array\n",
    "#defining a\n",
    "import numpy as np\n",
    "a=np.array([[1,2,3],[4,5,6],[7,8,9]])\n",
    "#print trignometric sin value of each element of a \n",
    "np.sin(a)\n",
    "(np.sin(a))/(np.cos(a))"
   ]
  },
  {
   "cell_type": "code",
   "execution_count": 135,
   "id": "dfd22c93",
   "metadata": {},
   "outputs": [
    {
     "name": "stdout",
     "output_type": "stream",
     "text": [
      "[[ 0.54030231 -0.41614684 -0.9899925 ]\n",
      " [-0.65364362  0.28366219  0.96017029]\n",
      " [ 0.75390225 -0.14550003 -0.91113026]]\n",
      "[[ 1.55740772 -2.18503986 -0.14254654]\n",
      " [ 1.15782128 -3.38051501 -0.29100619]\n",
      " [ 0.87144798 -6.79971146 -0.45231566]]\n"
     ]
    }
   ],
   "source": [
    "#print trignometric cos value of each element of a\n",
    "print(np.cos(a))\n",
    "print(np.tan(a))"
   ]
  },
  {
   "cell_type": "code",
   "execution_count": 136,
   "id": "e36ce9ee",
   "metadata": {},
   "outputs": [
    {
     "data": {
      "text/plain": [
       "array([[2.71828183e+00, 7.38905610e+00, 2.00855369e+01],\n",
       "       [5.45981500e+01, 1.48413159e+02, 4.03428793e+02],\n",
       "       [1.09663316e+03, 2.98095799e+03, 8.10308393e+03]])"
      ]
     },
     "execution_count": 136,
     "metadata": {},
     "output_type": "execute_result"
    }
   ],
   "source": [
    "#print exponential value of each elements of a using exp()\n",
    "np.exp(a)"
   ]
  },
  {
   "cell_type": "code",
   "execution_count": 137,
   "id": "e1d01aa5",
   "metadata": {},
   "outputs": [
    {
     "data": {
      "text/plain": [
       "45"
      ]
     },
     "execution_count": 137,
     "metadata": {},
     "output_type": "execute_result"
    }
   ],
   "source": [
    "#print total sum of elements of a\n",
    "np.sum(a)"
   ]
  },
  {
   "cell_type": "code",
   "execution_count": 138,
   "id": "2fae99e9",
   "metadata": {},
   "outputs": [
    {
     "data": {
      "text/plain": [
       "array([ 6, 15, 24])"
      ]
     },
     "execution_count": 138,
     "metadata": {},
     "output_type": "execute_result"
    }
   ],
   "source": [
    "#print sum in array a column wise\n",
    "np.sum(a,axis=1)"
   ]
  },
  {
   "cell_type": "code",
   "execution_count": 140,
   "id": "400eaf8a",
   "metadata": {},
   "outputs": [
    {
     "data": {
      "text/plain": [
       "array([12, 15, 18])"
      ]
     },
     "execution_count": 140,
     "metadata": {},
     "output_type": "execute_result"
    }
   ],
   "source": [
    "#print sum in array a row wise\n",
    "np.sum(a,axis=0)"
   ]
  },
  {
   "cell_type": "code",
   "execution_count": null,
   "id": "c38d3fbe",
   "metadata": {},
   "outputs": [],
   "source": [
    "#mean(average)=sum of total values/no of values\n",
    "#median(middle)=arrange in ascending to decending order than pick the middle value\n",
    "#mode(most repeated value)=number which repeats most\n",
    "#range(difference)=difference between largest and smallest number\n",
    "#standard deviation s=square root of sigma(x-xbar)2/(n-1)\n"
   ]
  },
  {
   "cell_type": "code",
   "execution_count": 141,
   "id": "b884fdbf",
   "metadata": {},
   "outputs": [
    {
     "data": {
      "text/plain": [
       "5.0"
      ]
     },
     "execution_count": 141,
     "metadata": {},
     "output_type": "execute_result"
    }
   ],
   "source": [
    "#print median of array a  using median()\n",
    "np.median(a)"
   ]
  },
  {
   "cell_type": "code",
   "execution_count": 142,
   "id": "8c5204d0",
   "metadata": {},
   "outputs": [
    {
     "data": {
      "text/plain": [
       "5.0"
      ]
     },
     "execution_count": 142,
     "metadata": {},
     "output_type": "execute_result"
    }
   ],
   "source": [
    "#print mean of array a  using mean()\n",
    "np.mean(a)"
   ]
  },
  {
   "cell_type": "code",
   "execution_count": 143,
   "id": "d042579a",
   "metadata": {},
   "outputs": [
    {
     "data": {
      "text/plain": [
       "2.581988897471611"
      ]
     },
     "execution_count": 143,
     "metadata": {},
     "output_type": "execute_result"
    }
   ],
   "source": [
    "#print standard deviation of array a  using std()\n",
    "np.std(a)"
   ]
  },
  {
   "cell_type": "code",
   "execution_count": 144,
   "id": "ad758410",
   "metadata": {},
   "outputs": [
    {
     "data": {
      "text/plain": [
       "9"
      ]
     },
     "execution_count": 144,
     "metadata": {},
     "output_type": "execute_result"
    }
   ],
   "source": [
    "#print largest element present in array a using max()\n",
    "np.max(a)"
   ]
  },
  {
   "cell_type": "code",
   "execution_count": 145,
   "id": "001b8144",
   "metadata": {},
   "outputs": [
    {
     "data": {
      "text/plain": [
       "array([  1,   2,   3,   4,   5,   6,   7,   8,  10, 100])"
      ]
     },
     "execution_count": 145,
     "metadata": {},
     "output_type": "execute_result"
    }
   ],
   "source": [
    "#print sorted x4 array  using sort()\n",
    "np.sort(x4)"
   ]
  },
  {
   "cell_type": "code",
   "execution_count": 146,
   "id": "4bcf9517",
   "metadata": {},
   "outputs": [
    {
     "name": "stdout",
     "output_type": "stream",
     "text": [
      "(array([0, 0, 0], dtype=int64), array([3, 4, 5], dtype=int64))\n"
     ]
    }
   ],
   "source": [
    "#where()method is used to finding the index\n",
    "import numpy as np\n",
    "#create a numpy array\n",
    "arr=np.array([[12,14,16,18,28,45]])\n",
    "#use numpy where()with 1 dimentional arrays\n",
    "arr1=np.where(arr>16)\n",
    "print(arr1)"
   ]
  },
  {
   "cell_type": "code",
   "execution_count": 147,
   "id": "c313230c",
   "metadata": {},
   "outputs": [
    {
     "name": "stdout",
     "output_type": "stream",
     "text": [
      "['__add__', '__class__', '__class_getitem__', '__contains__', '__delattr__', '__delitem__', '__dir__', '__doc__', '__eq__', '__format__', '__ge__', '__getattribute__', '__getitem__', '__gt__', '__hash__', '__iadd__', '__imul__', '__init__', '__init_subclass__', '__iter__', '__le__', '__len__', '__lt__', '__mul__', '__ne__', '__new__', '__reduce__', '__reduce_ex__', '__repr__', '__reversed__', '__rmul__', '__setattr__', '__setitem__', '__sizeof__', '__str__', '__subclasshook__', 'append', 'clear', 'copy', 'count', 'extend', 'index', 'insert', 'pop', 'remove', 'reverse', 'sort']\n"
     ]
    }
   ],
   "source": [
    "print(dir(list))"
   ]
  },
  {
   "cell_type": "code",
   "execution_count": 148,
   "id": "a6fc4dcf",
   "metadata": {},
   "outputs": [
    {
     "name": "stdout",
     "output_type": "stream",
     "text": [
      "['__and__', '__class__', '__class_getitem__', '__contains__', '__delattr__', '__dir__', '__doc__', '__eq__', '__format__', '__ge__', '__getattribute__', '__gt__', '__hash__', '__iand__', '__init__', '__init_subclass__', '__ior__', '__isub__', '__iter__', '__ixor__', '__le__', '__len__', '__lt__', '__ne__', '__new__', '__or__', '__rand__', '__reduce__', '__reduce_ex__', '__repr__', '__ror__', '__rsub__', '__rxor__', '__setattr__', '__sizeof__', '__str__', '__sub__', '__subclasshook__', '__xor__', 'add', 'clear', 'copy', 'difference', 'difference_update', 'discard', 'intersection', 'intersection_update', 'isdisjoint', 'issubset', 'issuperset', 'pop', 'remove', 'symmetric_difference', 'symmetric_difference_update', 'union', 'update']\n"
     ]
    }
   ],
   "source": [
    "print(dir(set))"
   ]
  },
  {
   "cell_type": "code",
   "execution_count": 149,
   "id": "ca5886ad",
   "metadata": {},
   "outputs": [
    {
     "name": "stdout",
     "output_type": "stream",
     "text": [
      "['False', 'None', 'True', '__peg_parser__', 'and', 'as', 'assert', 'async', 'await', 'break', 'class', 'continue', 'def', 'del', 'elif', 'else', 'except', 'finally', 'for', 'from', 'global', 'if', 'import', 'in', 'is', 'lambda', 'nonlocal', 'not', 'or', 'pass', 'raise', 'return', 'try', 'while', 'with', 'yield']\n"
     ]
    }
   ],
   "source": [
    "import keyword\n",
    "print(keyword.kwlist)"
   ]
  },
  {
   "cell_type": "code",
   "execution_count": 150,
   "id": "e9c643ab",
   "metadata": {},
   "outputs": [
    {
     "name": "stdout",
     "output_type": "stream",
     "text": [
      "36\n"
     ]
    }
   ],
   "source": [
    "print(len(keyword.kwlist))"
   ]
  },
  {
   "cell_type": "code",
   "execution_count": null,
   "id": "0623bc7c",
   "metadata": {},
   "outputs": [],
   "source": []
  }
 ],
 "metadata": {
  "kernelspec": {
   "display_name": "Python 3 (ipykernel)",
   "language": "python",
   "name": "python3"
  },
  "language_info": {
   "codemirror_mode": {
    "name": "ipython",
    "version": 3
   },
   "file_extension": ".py",
   "mimetype": "text/x-python",
   "name": "python",
   "nbconvert_exporter": "python",
   "pygments_lexer": "ipython3",
   "version": "3.9.13"
  }
 },
 "nbformat": 4,
 "nbformat_minor": 5
}
